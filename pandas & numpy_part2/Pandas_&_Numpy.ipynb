{
  "nbformat": 4,
  "nbformat_minor": 0,
  "metadata": {
    "colab": {
      "provenance": []
    },
    "kernelspec": {
      "name": "python3",
      "display_name": "Python 3"
    },
    "language_info": {
      "name": "python"
    }
  },
  "cells": [
    {
      "cell_type": "code",
      "execution_count": 60,
      "metadata": {
        "id": "kXjb5r2UGvq-"
      },
      "outputs": [],
      "source": [
        "import pandas as pd"
      ]
    },
    {
      "cell_type": "code",
      "source": [
        "data = pd.read_csv('data.csv')\n",
        "print(data.head())"
      ],
      "metadata": {
        "colab": {
          "base_uri": "https://localhost:8080/"
        },
        "id": "y92_u_9XHHd-",
        "outputId": "8fbdf496-7beb-487f-d265-93aa9441a681"
      },
      "execution_count": 61,
      "outputs": [
        {
          "output_type": "stream",
          "name": "stdout",
          "text": [
            "   Unnamed: 0  ID     Name   Age   Salary Department  Years_Experience Remote\n",
            "0           0   1  Othmane   NaN      NaN         IT                 0    Yes\n",
            "1           1   2    Ikram  22.0      NaN         HR                23    Yes\n",
            "2           2   3      Bob   NaN      NaN         HR                26    Yes\n",
            "3           3   4    Zineb  59.0  73665.0         HR                 3     No\n",
            "4           4   5    David  57.0  59325.0    Finance                33     No\n"
          ]
        }
      ]
    },
    {
      "cell_type": "code",
      "source": [
        "print(data.info())"
      ],
      "metadata": {
        "colab": {
          "base_uri": "https://localhost:8080/"
        },
        "id": "-hjwKD6bHQA6",
        "outputId": "5755b6c2-0b10-40a4-8800-b7aa01b733ba"
      },
      "execution_count": 62,
      "outputs": [
        {
          "output_type": "stream",
          "name": "stdout",
          "text": [
            "<class 'pandas.core.frame.DataFrame'>\n",
            "RangeIndex: 100 entries, 0 to 99\n",
            "Data columns (total 8 columns):\n",
            " #   Column            Non-Null Count  Dtype  \n",
            "---  ------            --------------  -----  \n",
            " 0   Unnamed: 0        100 non-null    int64  \n",
            " 1   ID                100 non-null    int64  \n",
            " 2   Name              100 non-null    object \n",
            " 3   Age               51 non-null     float64\n",
            " 4   Salary            56 non-null     float64\n",
            " 5   Department        100 non-null    object \n",
            " 6   Years_Experience  100 non-null    int64  \n",
            " 7   Remote            100 non-null    object \n",
            "dtypes: float64(2), int64(3), object(3)\n",
            "memory usage: 6.4+ KB\n",
            "None\n"
          ]
        }
      ]
    },
    {
      "cell_type": "code",
      "source": [
        "print(data.isnull().sum())"
      ],
      "metadata": {
        "colab": {
          "base_uri": "https://localhost:8080/"
        },
        "id": "dib29-dBHJpg",
        "outputId": "94401c7d-0c3e-4814-90a5-b997fe38283a"
      },
      "execution_count": 63,
      "outputs": [
        {
          "output_type": "stream",
          "name": "stdout",
          "text": [
            "Unnamed: 0           0\n",
            "ID                   0\n",
            "Name                 0\n",
            "Age                 49\n",
            "Salary              44\n",
            "Department           0\n",
            "Years_Experience     0\n",
            "Remote               0\n",
            "dtype: int64\n"
          ]
        }
      ]
    },
    {
      "cell_type": "code",
      "source": [
        "data['Age'] = data['Age'].median()"
      ],
      "metadata": {
        "id": "MYN-EFMeHMa2"
      },
      "execution_count": 64,
      "outputs": []
    },
    {
      "cell_type": "code",
      "source": [
        "data['Salary'] = data['Salary'].fillna(data.groupby('Department')['Salary'].transform('median'))\n",
        "print(data.isnull().sum())"
      ],
      "metadata": {
        "colab": {
          "base_uri": "https://localhost:8080/"
        },
        "id": "48EEytOaHT-8",
        "outputId": "8aa565e9-cf2a-41a5-965f-4fae3e6ca794"
      },
      "execution_count": 65,
      "outputs": [
        {
          "output_type": "stream",
          "name": "stdout",
          "text": [
            "Unnamed: 0          0\n",
            "ID                  0\n",
            "Name                0\n",
            "Age                 0\n",
            "Salary              0\n",
            "Department          0\n",
            "Years_Experience    0\n",
            "Remote              0\n",
            "dtype: int64\n"
          ]
        }
      ]
    },
    {
      "cell_type": "code",
      "source": [
        "data['Remote'] = data['Remote'].map(lambda x: 'Oui' if x == 'Yes' else'Non')\n",
        "print(data)"
      ],
      "metadata": {
        "colab": {
          "base_uri": "https://localhost:8080/"
        },
        "id": "oo6UOO6XHWdj",
        "outputId": "e7991f56-d749-4f39-f591-ff0ad56fb835"
      },
      "execution_count": 66,
      "outputs": [
        {
          "output_type": "stream",
          "name": "stdout",
          "text": [
            "    Unnamed: 0   ID     Name   Age   Salary Department  Years_Experience  \\\n",
            "0            0    1  Othmane  45.0  72943.5         IT                 0   \n",
            "1            1    2    Ikram  45.0  64107.0         HR                23   \n",
            "2            2    3      Bob  45.0  64107.0         HR                26   \n",
            "3            3    4    Zineb  45.0  73665.0         HR                 3   \n",
            "4            4    5    David  45.0  59325.0    Finance                33   \n",
            "..         ...  ...      ...   ...      ...        ...               ...   \n",
            "95          95   96      Bob  45.0  82670.0  Marketing                21   \n",
            "96          96   97      Eva  45.0  59838.0    Finance                12   \n",
            "97          97   98   Nassim  45.0  45811.0    Finance                14   \n",
            "98          98   99   Nassim  45.0  73800.0  Marketing                13   \n",
            "99          99  100  Othmane  45.0  73800.0  Marketing                19   \n",
            "\n",
            "   Remote  \n",
            "0     Oui  \n",
            "1     Oui  \n",
            "2     Oui  \n",
            "3     Non  \n",
            "4     Non  \n",
            "..    ...  \n",
            "95    Oui  \n",
            "96    Non  \n",
            "97    Oui  \n",
            "98    Oui  \n",
            "99    Oui  \n",
            "\n",
            "[100 rows x 8 columns]\n"
          ]
        }
      ]
    },
    {
      "cell_type": "code",
      "source": [
        "def apply(annes):\n",
        "  if annes > 3:\n",
        "    return 'unior'\n",
        "  elif  3 <= annes <=7:\n",
        "    return 'Intermédiaire'\n",
        "  elif  8 <= annes <=15:\n",
        "    return 'Senior'\n",
        "  else:\n",
        "    return 'expert'\n",
        "data['Ancienneté_Catégorie'] = data['Years_Experience'].apply(apply)"
      ],
      "metadata": {
        "id": "3_YJ_uvzHab9"
      },
      "execution_count": 30,
      "outputs": []
    },
    {
      "cell_type": "markdown",
      "source": [
        "Partie 3 : Analyses exploratoires et statistiques"
      ],
      "metadata": {
        "id": "AHRd6Dc-PWR1"
      }
    },
    {
      "cell_type": "code",
      "source": [
        "moyen_global = data['Salary'].mean()\n",
        "print(moyen_global)"
      ],
      "metadata": {
        "colab": {
          "base_uri": "https://localhost:8080/"
        },
        "id": "esGpq_KuPZJL",
        "outputId": "229b9306-af9e-4f4d-c6d7-f1bd7ada51b8"
      },
      "execution_count": 37,
      "outputs": [
        {
          "output_type": "stream",
          "name": "stdout",
          "text": [
            "65145.65500000003\n"
          ]
        }
      ]
    },
    {
      "cell_type": "code",
      "source": [
        "em_max = data['Salary'].max()\n",
        "print(em_max)"
      ],
      "metadata": {
        "colab": {
          "base_uri": "https://localhost:8080/"
        },
        "id": "NNpuR2CeQA2x",
        "outputId": "3027149e-55b4-4b19-cf25-b5143df0c18d"
      },
      "execution_count": 39,
      "outputs": [
        {
          "output_type": "stream",
          "name": "stdout",
          "text": [
            "65145.655\n"
          ]
        }
      ]
    },
    {
      "cell_type": "code",
      "source": [
        "salaire_moyen = data.groupby('Department')['Salary'].mean()\n",
        "print(salaire_moyen)"
      ],
      "metadata": {
        "colab": {
          "base_uri": "https://localhost:8080/"
        },
        "id": "8pjiRkLiQzcT",
        "outputId": "ae40fdc3-ffc6-40ca-ec11-8bf4aaa61b01"
      },
      "execution_count": 43,
      "outputs": [
        {
          "output_type": "stream",
          "name": "stdout",
          "text": [
            "Department\n",
            "Finance      65145.655\n",
            "HR           65145.655\n",
            "IT           65145.655\n",
            "Logistics    65145.655\n",
            "Marketing    65145.655\n",
            "Name: Salary, dtype: float64\n"
          ]
        }
      ]
    },
    {
      "cell_type": "code",
      "source": [
        "moyen_salaire_anciennete_categorie = data.groupby('Ancienneté_Catégorie')['Salary'].mean()\n",
        "print(moyen_salaire_anciennete_categorie)"
      ],
      "metadata": {
        "colab": {
          "base_uri": "https://localhost:8080/"
        },
        "id": "_qjgSGSFSd7d",
        "outputId": "1d7f4511-cee0-4478-d6a9-343f1af5fd85"
      },
      "execution_count": 44,
      "outputs": [
        {
          "output_type": "stream",
          "name": "stdout",
          "text": [
            "Ancienneté_Catégorie\n",
            "Intermédiaire    65145.655\n",
            "expert           65145.655\n",
            "unior            65145.655\n",
            "Name: Salary, dtype: float64\n"
          ]
        }
      ]
    },
    {
      "cell_type": "code",
      "source": [
        "midiane_salaire_anciennete_categorie = data.groupby('Ancienneté_Catégorie')['Salary'].median()\n",
        "print(moyen_salaire_anciennete_categorie)"
      ],
      "metadata": {
        "colab": {
          "base_uri": "https://localhost:8080/"
        },
        "id": "rTbwVQS4Th_J",
        "outputId": "39abdd7a-d547-4fdc-a395-8d2821aae5e1"
      },
      "execution_count": 45,
      "outputs": [
        {
          "output_type": "stream",
          "name": "stdout",
          "text": [
            "Ancienneté_Catégorie\n",
            "Intermédiaire    65145.655\n",
            "expert           65145.655\n",
            "unior            65145.655\n",
            "Name: Salary, dtype: float64\n"
          ]
        }
      ]
    },
    {
      "cell_type": "code",
      "source": [
        "remote = data[data['Remote']=='Oui'].groupby('Department').size()\n",
        "print(remote)"
      ],
      "metadata": {
        "colab": {
          "base_uri": "https://localhost:8080/"
        },
        "id": "jhvH1AGqT6oW",
        "outputId": "968e40e9-889d-4564-f376-cded2840f791"
      },
      "execution_count": 68,
      "outputs": [
        {
          "output_type": "stream",
          "name": "stdout",
          "text": [
            "Department\n",
            "Finance       7\n",
            "HR           13\n",
            "IT            9\n",
            "Logistics     8\n",
            "Marketing    18\n",
            "dtype: int64\n"
          ]
        }
      ]
    },
    {
      "cell_type": "markdown",
      "source": [
        " Calculs avancés avec NumPy"
      ],
      "metadata": {
        "id": "dQ4Pga5TYSAB"
      }
    },
    {
      "cell_type": "code",
      "source": [
        "import numpy as np\n",
        "data['Performance'] = np.where(data['Salary'] < 60000 ,'Bon',\n",
        "                               np.where(data['Salary'] < 80000, 'Moyen','Haut'))\n",
        "print(data.head())"
      ],
      "metadata": {
        "colab": {
          "base_uri": "https://localhost:8080/"
        },
        "id": "m3lqGIKwYSXW",
        "outputId": "ee2f496c-b972-46c9-cddd-4389df2533a6"
      },
      "execution_count": 73,
      "outputs": [
        {
          "output_type": "stream",
          "name": "stdout",
          "text": [
            "   Unnamed: 0  ID     Name   Age   Salary Department  Years_Experience Remote  \\\n",
            "0           0   1  Othmane  45.0  72943.5         IT                 0    Oui   \n",
            "1           1   2    Ikram  45.0  64107.0         HR                23    Oui   \n",
            "2           2   3      Bob  45.0  64107.0         HR                26    Oui   \n",
            "3           3   4    Zineb  45.0  73665.0         HR                 3    Non   \n",
            "4           4   5    David  45.0  59325.0    Finance                33    Non   \n",
            "\n",
            "  Performance  \n",
            "0       Moyen  \n",
            "1       Moyen  \n",
            "2       Moyen  \n",
            "3       Moyen  \n",
            "4         Bon  \n"
          ]
        }
      ]
    },
    {
      "cell_type": "code",
      "source": [
        "x = [\n",
        "    (data['Age'] < 35) & (data['Years_Experience'] < 5),\n",
        "    (data['Age'] < 35) & (data['Years_Experience'] >= 5),\n",
        "    (data['Age'] >= 35) & (data['Years_Experience'] < 5),\n",
        "    (data['Age'] >= 35) & (data['Years_Experience'] >= 5)\n",
        "             ]\n",
        "\n",
        "y = [\n",
        "    'Jeune & Nouveau',\n",
        "    'Jeune & Expérimenté',\n",
        "    'Senior & Nouveau',\n",
        "    'Senior & Expérimenté']\n",
        "data['new'] = np.select(x,y)"
      ],
      "metadata": {
        "id": "Xr2wqaARaQQ5"
      },
      "execution_count": 84,
      "outputs": []
    },
    {
      "cell_type": "code",
      "source": [
        "moyen = data.groupby('Department')['Salary'].transform('mean')\n",
        "diffenerce = data['Salary'] - moyen\n",
        "print(diffenerce)"
      ],
      "metadata": {
        "colab": {
          "base_uri": "https://localhost:8080/"
        },
        "id": "e-xbv1W0eMlL",
        "outputId": "bd3aa41e-0309-46ba-e45b-eecc5d076731"
      },
      "execution_count": 87,
      "outputs": [
        {
          "output_type": "stream",
          "name": "stdout",
          "text": [
            "0      2009.000000\n",
            "1      1311.035714\n",
            "2      1311.035714\n",
            "3     10869.035714\n",
            "4      3636.050000\n",
            "          ...     \n",
            "95    10640.520000\n",
            "96     4149.050000\n",
            "97    -9877.950000\n",
            "98     1770.520000\n",
            "99     1770.520000\n",
            "Name: Salary, Length: 100, dtype: float64\n"
          ]
        }
      ]
    },
    {
      "cell_type": "markdown",
      "source": [
        "Visualisation"
      ],
      "metadata": {
        "id": "Xk9KaNcmf0QX"
      }
    },
    {
      "cell_type": "code",
      "source": [
        "import matplotlib.pyplot as plt\n",
        "import seaborn as sns"
      ],
      "metadata": {
        "id": "O5vgecElf1Hb"
      },
      "execution_count": 88,
      "outputs": []
    },
    {
      "cell_type": "code",
      "source": [
        "sns.histplot(data['Salary'])"
      ],
      "metadata": {
        "colab": {
          "base_uri": "https://localhost:8080/",
          "height": 467
        },
        "id": "qK69y_5hgOfU",
        "outputId": "db60ac16-9466-4526-96c5-13e210571280"
      },
      "execution_count": 90,
      "outputs": [
        {
          "output_type": "execute_result",
          "data": {
            "text/plain": [
              "<Axes: xlabel='Salary', ylabel='Count'>"
            ]
          },
          "metadata": {},
          "execution_count": 90
        },
        {
          "output_type": "display_data",
          "data": {
            "text/plain": [
              "<Figure size 640x480 with 1 Axes>"
            ],
            "image/png": "[encoded data removed]"
          },
          "metadata": {}
        }
      ]
    },
    {
      "cell_type": "code",
      "source": [
        "sns.barplot(x = data['Department'], y = data['Salary'])"
      ],
      "metadata": {
        "colab": {
          "base_uri": "https://localhost:8080/",
          "height": 467
        },
        "id": "tLFF4yChgUZv",
        "outputId": "706ef92b-7712-471c-fd02-5fefa4cd8cdb"
      },
      "execution_count": 92,
      "outputs": [
        {
          "output_type": "execute_result",
          "data": {
            "text/plain": [
              "<Axes: xlabel='Department', ylabel='Salary'>"
            ]
          },
          "metadata": {},
          "execution_count": 92
        },
        {
          "output_type": "display_data",
          "data": {
            "text/plain": [
              "<Figure size 640x480 with 1 Axes>"
            ],
            "image/png": "[encoded data removed]"
          },
          "metadata": {}
        }
      ]
    },
    {
      "cell_type": "code",
      "source": [
        "sns.boxplot(x = data['Salary'], y = data['Performance'])"
      ],
      "metadata": {
        "colab": {
          "base_uri": "https://localhost:8080/",
          "height": 467
        },
        "id": "onz9RUJdh1OC",
        "outputId": "ebd7ab29-88af-4ca5-a6d5-50d20814324c"
      },
      "execution_count": 93,
      "outputs": [
        {
          "output_type": "execute_result",
          "data": {
            "text/plain": [
              "<Axes: xlabel='Salary', ylabel='Performance'>"
            ]
          },
          "metadata": {},
          "execution_count": 93
        },
        {
          "output_type": "display_data",
          "data": {
            "text/plain": [
              "<Figure size 640x480 with 1 Axes>"
            ],
            "image/png": "[encoded data removed]"
          },
          "metadata": {}
        }
      ]
    },
    {
      "cell_type": "code",
      "source": [],
      "metadata": {
        "id": "939LnjZxiMoa"
      },
      "execution_count": null,
      "outputs": []
    }
  ]
}